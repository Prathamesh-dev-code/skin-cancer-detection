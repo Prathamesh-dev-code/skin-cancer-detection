{
 "cells": [
  {
   "cell_type": "code",
   "execution_count": 1,
   "id": "2167321c",
   "metadata": {},
   "outputs": [],
   "source": [
    "import pandas as pd\n",
    "import numpy as np\n",
    "import keras\n",
    "import time\n",
    "import tensorflow as tf\n",
    "import seaborn as sns\n",
    "import matplotlib.pyplot as plt\n",
    "import sklearn.metrics as metrics\n",
    "from keras.models import Sequential\n",
    "from keras.layers import LSTM, Dense,Dropout\n",
    "from keras.utils import np_utils\n",
    "from imblearn.over_sampling import RandomOverSampler\n",
    "from sklearn.model_selection import train_test_split"
   ]
  },
  {
   "cell_type": "code",
   "execution_count": 2,
   "id": "250a970c",
   "metadata": {},
   "outputs": [],
   "source": [
    "# Hyper parameters\n",
    "batch_size = 128\n",
    "nb_epoch = 40\n",
    "\n",
    "# Parameters for MNIST dataset\n",
    "img_rows, img_cols = 28, 28\n",
    "num_classes = 7\n",
    "\n",
    "# Parameters for LSTM network\n",
    "nb_lstm = 64\n",
    "nb_time_steps = img_rows\n",
    "dim_input_vector = img_cols"
   ]
  },
  {
   "cell_type": "code",
   "execution_count": 4,
   "id": "58f0abf6",
   "metadata": {},
   "outputs": [],
   "source": [
    "# import the data of images and the data from HAM_metadata.csv\n",
    "dataset_images = pd.read_csv(\"hmnist_28_28_RGB.csv\")"
   ]
  },
  {
   "cell_type": "code",
   "execution_count": 5,
   "id": "4ae6d4b4",
   "metadata": {},
   "outputs": [],
   "source": [
    "# removing the 'label' column from the data frame so I only keep the image data\n",
    "images = dataset_images.drop(['label'], axis=1)\n",
    "# keeping only the label column\n",
    "labels = dataset_images['label']"
   ]
  },
  {
   "cell_type": "code",
   "execution_count": 6,
   "id": "990e120e",
   "metadata": {},
   "outputs": [],
   "source": [
    "# Oversampling to overcome class imbalance\n",
    "oversample = RandomOverSampler()\n",
    "images, labels = oversample.fit_resample(images, labels)"
   ]
  },
  {
   "cell_type": "code",
   "execution_count": 7,
   "id": "188e7fdc",
   "metadata": {},
   "outputs": [],
   "source": [
    "# Parsing the images into an array and resizing them from 4d arrays to 3d arrays\n",
    "images = np.array(images)\n",
    "images = images.reshape(-1, 28, 84)"
   ]
  },
  {
   "cell_type": "code",
   "execution_count": 8,
   "id": "ee0afa07",
   "metadata": {},
   "outputs": [],
   "source": [
    "# Normalizing the images.\n",
    "images = (images - np.mean(images)) / np.std(images)"
   ]
  },
  {
   "cell_type": "code",
   "execution_count": 9,
   "id": "8eba6aee",
   "metadata": {},
   "outputs": [],
   "source": [
    "# Splitting my predictive and response data into training and testing sets with an 80:20 ratio\n",
    "# while the state is set to a constant so that the splitting can be done reproducibly\n",
    "x_train, x_test, y_train, y_test = train_test_split(images, labels, random_state=1, test_size=0.20)"
   ]
  },
  {
   "cell_type": "code",
   "execution_count": 10,
   "id": "0fea52d6",
   "metadata": {},
   "outputs": [
    {
     "name": "stdout",
     "output_type": "stream",
     "text": [
      "X_train shape: (37548, 28, 84)\n",
      "37548 train samples\n",
      "9387 test samples\n"
     ]
    }
   ],
   "source": [
    "# Chacking the structure of my test and train sets\n",
    "print('X_train shape:', x_train.shape)\n",
    "print(x_train.shape[0], 'train samples')\n",
    "print(x_test.shape[0], 'test samples')"
   ]
  },
  {
   "cell_type": "code",
   "execution_count": 11,
   "id": "784319f8",
   "metadata": {},
   "outputs": [],
   "source": [
    "# encoding my labels to one-hot vectors\n",
    "y_train = keras.utils.np_utils.to_categorical(y_train, num_classes)\n",
    "y_test = keras.utils.np_utils.to_categorical(y_test, num_classes)"
   ]
  },
  {
   "cell_type": "code",
   "execution_count": 12,
   "id": "6f357104",
   "metadata": {},
   "outputs": [],
   "source": [
    "start = time.time()"
   ]
  },
  {
   "cell_type": "code",
   "execution_count": 13,
   "id": "4deb5a11",
   "metadata": {},
   "outputs": [],
   "source": [
    "# Building LSTM network\n",
    "model = Sequential()\n",
    "model.add(LSTM(nb_lstm, input_shape=(nb_time_steps, 84), return_sequences=True))\n",
    "model.add(Dropout(0.5))\n",
    "model.add(LSTM(nb_lstm, return_sequences=False))\n",
    "model.add(Dropout(0.5))\n",
    "model.add(Dense(num_classes, activation='softmax'))"
   ]
  },
  {
   "cell_type": "code",
   "execution_count": 14,
   "id": "ea426c91",
   "metadata": {},
   "outputs": [
    {
     "name": "stdout",
     "output_type": "stream",
     "text": [
      "Model: \"sequential\"\n",
      "_________________________________________________________________\n",
      " Layer (type)                Output Shape              Param #   \n",
      "=================================================================\n",
      " lstm (LSTM)                 (None, 28, 64)            38144     \n",
      "                                                                 \n",
      " dropout (Dropout)           (None, 28, 64)            0         \n",
      "                                                                 \n",
      " lstm_1 (LSTM)               (None, 64)                33024     \n",
      "                                                                 \n",
      " dropout_1 (Dropout)         (None, 64)                0         \n",
      "                                                                 \n",
      " dense (Dense)               (None, 7)                 455       \n",
      "                                                                 \n",
      "=================================================================\n",
      "Total params: 71,623\n",
      "Trainable params: 71,623\n",
      "Non-trainable params: 0\n",
      "_________________________________________________________________\n"
     ]
    }
   ],
   "source": [
    "model.summary()"
   ]
  },
  {
   "cell_type": "code",
   "execution_count": 14,
   "id": "30fe8b1d",
   "metadata": {},
   "outputs": [],
   "source": [
    "callback = tf.keras.callbacks.ModelCheckpoint(filepath='LSTM_Model-RGB.h5', monitor='val_acc', mode='max', verbose=1)"
   ]
  },
  {
   "cell_type": "code",
   "execution_count": 15,
   "id": "0555c66f",
   "metadata": {},
   "outputs": [],
   "source": [
    "model.compile(optimizer='adam', loss='categorical_crossentropy', metrics=['accuracy'])"
   ]
  },
  {
   "cell_type": "code",
   "execution_count": 16,
   "id": "fefcf7cb",
   "metadata": {
    "scrolled": false
   },
   "outputs": [
    {
     "name": "stdout",
     "output_type": "stream",
     "text": [
      "Epoch 1/40\n",
      "235/235 [==============================] - ETA: 0s - loss: 1.3769 - accuracy: 0.4661\n",
      "Epoch 1: saving model to trained-models\\LSTM_Model-RGB.h5\n",
      "235/235 [==============================] - 14s 48ms/step - loss: 1.3769 - accuracy: 0.4661 - val_loss: 0.9998 - val_accuracy: 0.6186\n",
      "Epoch 2/40\n",
      "234/235 [============================>.] - ETA: 0s - loss: 0.9629 - accuracy: 0.6455\n",
      "Epoch 2: saving model to trained-models\\LSTM_Model-RGB.h5\n",
      "235/235 [==============================] - 9s 39ms/step - loss: 0.9633 - accuracy: 0.6454 - val_loss: 0.7600 - val_accuracy: 0.7060\n",
      "Epoch 3/40\n",
      "234/235 [============================>.] - ETA: 0s - loss: 0.7736 - accuracy: 0.7161\n",
      "Epoch 3: saving model to trained-models\\LSTM_Model-RGB.h5\n",
      "235/235 [==============================] - 9s 39ms/step - loss: 0.7732 - accuracy: 0.7162 - val_loss: 0.6228 - val_accuracy: 0.7662\n",
      "Epoch 4/40\n",
      "235/235 [==============================] - ETA: 0s - loss: 0.6641 - accuracy: 0.7566\n",
      "Epoch 4: saving model to trained-models\\LSTM_Model-RGB.h5\n",
      "235/235 [==============================] - 9s 39ms/step - loss: 0.6641 - accuracy: 0.7566 - val_loss: 0.5367 - val_accuracy: 0.8003\n",
      "Epoch 5/40\n",
      "235/235 [==============================] - ETA: 0s - loss: 0.5788 - accuracy: 0.7911\n",
      "Epoch 5: saving model to trained-models\\LSTM_Model-RGB.h5\n",
      "235/235 [==============================] - 9s 37ms/step - loss: 0.5788 - accuracy: 0.7911 - val_loss: 0.4944 - val_accuracy: 0.8105\n",
      "Epoch 6/40\n",
      "235/235 [==============================] - ETA: 0s - loss: 0.5098 - accuracy: 0.8153\n",
      "Epoch 6: saving model to trained-models\\LSTM_Model-RGB.h5\n",
      "235/235 [==============================] - 9s 37ms/step - loss: 0.5098 - accuracy: 0.8153 - val_loss: 0.4549 - val_accuracy: 0.8334\n",
      "Epoch 7/40\n",
      "235/235 [==============================] - ETA: 0s - loss: 0.4755 - accuracy: 0.8311\n",
      "Epoch 7: saving model to trained-models\\LSTM_Model-RGB.h5\n",
      "235/235 [==============================] - 9s 38ms/step - loss: 0.4755 - accuracy: 0.8311 - val_loss: 0.4449 - val_accuracy: 0.8402\n",
      "Epoch 8/40\n",
      "234/235 [============================>.] - ETA: 0s - loss: 0.4259 - accuracy: 0.8477\n",
      "Epoch 8: saving model to trained-models\\LSTM_Model-RGB.h5\n",
      "235/235 [==============================] - 9s 38ms/step - loss: 0.4253 - accuracy: 0.8479 - val_loss: 0.4038 - val_accuracy: 0.8537\n",
      "Epoch 9/40\n",
      "235/235 [==============================] - ETA: 0s - loss: 0.4060 - accuracy: 0.8556\n",
      "Epoch 9: saving model to trained-models\\LSTM_Model-RGB.h5\n",
      "235/235 [==============================] - 10s 42ms/step - loss: 0.4060 - accuracy: 0.8556 - val_loss: 0.3917 - val_accuracy: 0.8565\n",
      "Epoch 10/40\n",
      "235/235 [==============================] - ETA: 0s - loss: 0.3763 - accuracy: 0.8660\n",
      "Epoch 10: saving model to trained-models\\LSTM_Model-RGB.h5\n",
      "235/235 [==============================] - 9s 38ms/step - loss: 0.3763 - accuracy: 0.8660 - val_loss: 0.3569 - val_accuracy: 0.8722\n",
      "Epoch 11/40\n",
      "234/235 [============================>.] - ETA: 0s - loss: 0.3463 - accuracy: 0.8777\n",
      "Epoch 11: saving model to trained-models\\LSTM_Model-RGB.h5\n",
      "235/235 [==============================] - 9s 37ms/step - loss: 0.3463 - accuracy: 0.8778 - val_loss: 0.3105 - val_accuracy: 0.8915\n",
      "Epoch 12/40\n",
      "235/235 [==============================] - ETA: 0s - loss: 0.3335 - accuracy: 0.8833\n",
      "Epoch 12: saving model to trained-models\\LSTM_Model-RGB.h5\n",
      "235/235 [==============================] - 9s 38ms/step - loss: 0.3335 - accuracy: 0.8833 - val_loss: 0.3436 - val_accuracy: 0.8770\n",
      "Epoch 13/40\n",
      "235/235 [==============================] - ETA: 0s - loss: 0.3185 - accuracy: 0.8884\n",
      "Epoch 13: saving model to trained-models\\LSTM_Model-RGB.h5\n",
      "235/235 [==============================] - 9s 40ms/step - loss: 0.3185 - accuracy: 0.8884 - val_loss: 0.2895 - val_accuracy: 0.8984\n",
      "Epoch 14/40\n",
      "235/235 [==============================] - ETA: 0s - loss: 0.2942 - accuracy: 0.8973\n",
      "Epoch 14: saving model to trained-models\\LSTM_Model-RGB.h5\n",
      "235/235 [==============================] - 9s 37ms/step - loss: 0.2942 - accuracy: 0.8973 - val_loss: 0.2819 - val_accuracy: 0.8989\n",
      "Epoch 15/40\n",
      "235/235 [==============================] - ETA: 0s - loss: 0.2651 - accuracy: 0.9078\n",
      "Epoch 15: saving model to trained-models\\LSTM_Model-RGB.h5\n",
      "235/235 [==============================] - 9s 37ms/step - loss: 0.2651 - accuracy: 0.9078 - val_loss: 0.2522 - val_accuracy: 0.9130\n",
      "Epoch 16/40\n",
      "234/235 [============================>.] - ETA: 0s - loss: 0.2760 - accuracy: 0.9047\n",
      "Epoch 16: saving model to trained-models\\LSTM_Model-RGB.h5\n",
      "235/235 [==============================] - 9s 37ms/step - loss: 0.2760 - accuracy: 0.9048 - val_loss: 0.2674 - val_accuracy: 0.9065\n",
      "Epoch 17/40\n",
      "235/235 [==============================] - ETA: 0s - loss: 0.2512 - accuracy: 0.9120\n",
      "Epoch 17: saving model to trained-models\\LSTM_Model-RGB.h5\n",
      "235/235 [==============================] - 9s 37ms/step - loss: 0.2512 - accuracy: 0.9120 - val_loss: 0.2247 - val_accuracy: 0.9220\n",
      "Epoch 18/40\n",
      "235/235 [==============================] - ETA: 0s - loss: 0.2452 - accuracy: 0.9154\n",
      "Epoch 18: saving model to trained-models\\LSTM_Model-RGB.h5\n",
      "235/235 [==============================] - 9s 39ms/step - loss: 0.2452 - accuracy: 0.9154 - val_loss: 0.2438 - val_accuracy: 0.9217\n",
      "Epoch 19/40\n",
      "234/235 [============================>.] - ETA: 0s - loss: 0.2410 - accuracy: 0.9175\n",
      "Epoch 19: saving model to trained-models\\LSTM_Model-RGB.h5\n",
      "235/235 [==============================] - 9s 39ms/step - loss: 0.2408 - accuracy: 0.9175 - val_loss: 0.2724 - val_accuracy: 0.9065\n",
      "Epoch 20/40\n",
      "235/235 [==============================] - ETA: 0s - loss: 0.2186 - accuracy: 0.9250\n",
      "Epoch 20: saving model to trained-models\\LSTM_Model-RGB.h5\n",
      "235/235 [==============================] - 9s 39ms/step - loss: 0.2186 - accuracy: 0.9250 - val_loss: 0.2192 - val_accuracy: 0.9269\n",
      "Epoch 21/40\n",
      "235/235 [==============================] - ETA: 0s - loss: 0.2240 - accuracy: 0.9225\n",
      "Epoch 21: saving model to trained-models\\LSTM_Model-RGB.h5\n",
      "235/235 [==============================] - 9s 36ms/step - loss: 0.2240 - accuracy: 0.9225 - val_loss: 0.2485 - val_accuracy: 0.9201\n",
      "Epoch 22/40\n",
      "235/235 [==============================] - ETA: 0s - loss: 0.2174 - accuracy: 0.9270\n",
      "Epoch 22: saving model to trained-models\\LSTM_Model-RGB.h5\n",
      "235/235 [==============================] - 9s 37ms/step - loss: 0.2174 - accuracy: 0.9270 - val_loss: 0.1983 - val_accuracy: 0.9316\n",
      "Epoch 23/40\n",
      "234/235 [============================>.] - ETA: 0s - loss: 0.2095 - accuracy: 0.9289\n",
      "Epoch 23: saving model to trained-models\\LSTM_Model-RGB.h5\n",
      "235/235 [==============================] - 9s 38ms/step - loss: 0.2094 - accuracy: 0.9289 - val_loss: 0.1933 - val_accuracy: 0.9373\n",
      "Epoch 24/40\n",
      "235/235 [==============================] - ETA: 0s - loss: 0.1940 - accuracy: 0.9333\n",
      "Epoch 24: saving model to trained-models\\LSTM_Model-RGB.h5\n",
      "235/235 [==============================] - 10s 42ms/step - loss: 0.1940 - accuracy: 0.9333 - val_loss: 0.2058 - val_accuracy: 0.9305\n",
      "Epoch 25/40\n",
      "235/235 [==============================] - ETA: 0s - loss: 0.2012 - accuracy: 0.9318\n",
      "Epoch 25: saving model to trained-models\\LSTM_Model-RGB.h5\n",
      "235/235 [==============================] - 9s 40ms/step - loss: 0.2012 - accuracy: 0.9318 - val_loss: 0.1929 - val_accuracy: 0.9365\n",
      "Epoch 26/40\n",
      "234/235 [============================>.] - ETA: 0s - loss: 0.1828 - accuracy: 0.9363\n",
      "Epoch 26: saving model to trained-models\\LSTM_Model-RGB.h5\n",
      "235/235 [==============================] - 9s 38ms/step - loss: 0.1825 - accuracy: 0.9364 - val_loss: 0.1978 - val_accuracy: 0.9352\n",
      "Epoch 27/40\n",
      "235/235 [==============================] - ETA: 0s - loss: 0.1718 - accuracy: 0.9419\n",
      "Epoch 27: saving model to trained-models\\LSTM_Model-RGB.h5\n",
      "235/235 [==============================] - 10s 41ms/step - loss: 0.1718 - accuracy: 0.9419 - val_loss: 0.2177 - val_accuracy: 0.9312\n",
      "Epoch 28/40\n",
      "235/235 [==============================] - ETA: 0s - loss: 0.2111 - accuracy: 0.9307\n",
      "Epoch 28: saving model to trained-models\\LSTM_Model-RGB.h5\n",
      "235/235 [==============================] - 10s 41ms/step - loss: 0.2111 - accuracy: 0.9307 - val_loss: 0.1941 - val_accuracy: 0.9369\n",
      "Epoch 29/40\n",
      "234/235 [============================>.] - ETA: 0s - loss: 0.1656 - accuracy: 0.9430\n",
      "Epoch 29: saving model to trained-models\\LSTM_Model-RGB.h5\n"
     ]
    },
    {
     "name": "stdout",
     "output_type": "stream",
     "text": [
      "235/235 [==============================] - 10s 44ms/step - loss: 0.1656 - accuracy: 0.9429 - val_loss: 0.2099 - val_accuracy: 0.9294\n",
      "Epoch 30/40\n",
      "235/235 [==============================] - ETA: 0s - loss: 0.1799 - accuracy: 0.9399\n",
      "Epoch 30: saving model to trained-models\\LSTM_Model-RGB.h5\n",
      "235/235 [==============================] - 9s 37ms/step - loss: 0.1799 - accuracy: 0.9399 - val_loss: 0.2482 - val_accuracy: 0.9268\n",
      "Epoch 31/40\n",
      "234/235 [============================>.] - ETA: 0s - loss: 0.1819 - accuracy: 0.9398\n",
      "Epoch 31: saving model to trained-models\\LSTM_Model-RGB.h5\n",
      "235/235 [==============================] - 9s 38ms/step - loss: 0.1822 - accuracy: 0.9398 - val_loss: 0.1802 - val_accuracy: 0.9426\n",
      "Epoch 32/40\n",
      "235/235 [==============================] - ETA: 0s - loss: 0.1526 - accuracy: 0.9479\n",
      "Epoch 32: saving model to trained-models\\LSTM_Model-RGB.h5\n",
      "235/235 [==============================] - 9s 38ms/step - loss: 0.1526 - accuracy: 0.9479 - val_loss: 0.1679 - val_accuracy: 0.9467\n",
      "Epoch 33/40\n",
      "234/235 [============================>.] - ETA: 0s - loss: 0.1639 - accuracy: 0.9461\n",
      "Epoch 33: saving model to trained-models\\LSTM_Model-RGB.h5\n",
      "235/235 [==============================] - 9s 38ms/step - loss: 0.1638 - accuracy: 0.9461 - val_loss: 0.1789 - val_accuracy: 0.9414\n",
      "Epoch 34/40\n",
      "235/235 [==============================] - ETA: 0s - loss: 0.1621 - accuracy: 0.9448\n",
      "Epoch 34: saving model to trained-models\\LSTM_Model-RGB.h5\n",
      "235/235 [==============================] - 10s 41ms/step - loss: 0.1621 - accuracy: 0.9448 - val_loss: 0.1714 - val_accuracy: 0.9458\n",
      "Epoch 35/40\n",
      "234/235 [============================>.] - ETA: 0s - loss: 0.1334 - accuracy: 0.9548\n",
      "Epoch 35: saving model to trained-models\\LSTM_Model-RGB.h5\n",
      "235/235 [==============================] - 9s 39ms/step - loss: 0.1334 - accuracy: 0.9547 - val_loss: 0.1930 - val_accuracy: 0.9419\n",
      "Epoch 36/40\n",
      "234/235 [============================>.] - ETA: 0s - loss: 0.1389 - accuracy: 0.9528\n",
      "Epoch 36: saving model to trained-models\\LSTM_Model-RGB.h5\n",
      "235/235 [==============================] - 9s 38ms/step - loss: 0.1388 - accuracy: 0.9528 - val_loss: 0.1895 - val_accuracy: 0.9437\n",
      "Epoch 37/40\n",
      "235/235 [==============================] - ETA: 0s - loss: 0.1485 - accuracy: 0.9507\n",
      "Epoch 37: saving model to trained-models\\LSTM_Model-RGB.h5\n",
      "235/235 [==============================] - 9s 39ms/step - loss: 0.1485 - accuracy: 0.9507 - val_loss: 0.1662 - val_accuracy: 0.9485\n",
      "Epoch 38/40\n",
      "234/235 [============================>.] - ETA: 0s - loss: 0.1362 - accuracy: 0.9532\n",
      "Epoch 38: saving model to trained-models\\LSTM_Model-RGB.h5\n",
      "235/235 [==============================] - 9s 40ms/step - loss: 0.1363 - accuracy: 0.9532 - val_loss: 0.1734 - val_accuracy: 0.9469\n",
      "Epoch 39/40\n",
      "234/235 [============================>.] - ETA: 0s - loss: 0.1344 - accuracy: 0.9547\n",
      "Epoch 39: saving model to trained-models\\LSTM_Model-RGB.h5\n",
      "235/235 [==============================] - 9s 40ms/step - loss: 0.1344 - accuracy: 0.9547 - val_loss: 0.1605 - val_accuracy: 0.9523\n",
      "Epoch 40/40\n",
      "234/235 [============================>.] - ETA: 0s - loss: 0.1287 - accuracy: 0.9581\n",
      "Epoch 40: saving model to trained-models\\LSTM_Model-RGB.h5\n",
      "235/235 [==============================] - 12s 52ms/step - loss: 0.1288 - accuracy: 0.9582 - val_loss: 0.2008 - val_accuracy: 0.9390\n"
     ]
    }
   ],
   "source": [
    "# Fitting the model\n",
    "history = model.fit(x_train, y_train, epochs=nb_epoch, batch_size=batch_size, callbacks=[callback], validation_split = 0.2)"
   ]
  },
  {
   "cell_type": "code",
   "execution_count": 17,
   "id": "33b0263c",
   "metadata": {},
   "outputs": [],
   "source": [
    "stop = time.time()"
   ]
  },
  {
   "cell_type": "code",
   "execution_count": 18,
   "id": "295fe35d",
   "metadata": {},
   "outputs": [
    {
     "name": "stdout",
     "output_type": "stream",
     "text": [
      "Summary: Loss over the test dataset: 0.20, Accuracy: 0.94\n"
     ]
    }
   ],
   "source": [
    "# Evaluating the model\n",
    "score = model.evaluate(x_test, y_test, verbose=0)\n",
    "print('Summary: Loss over the test dataset: %.2f, Accuracy: %.2f' % (score[0], score[1]))"
   ]
  },
  {
   "cell_type": "code",
   "execution_count": 19,
   "id": "e59bf6cb",
   "metadata": {},
   "outputs": [
    {
     "name": "stdout",
     "output_type": "stream",
     "text": [
      "Time to build and train the model is :  6.231402571996053  minutes\n"
     ]
    }
   ],
   "source": [
    "print(\"Time to build and train the model is : \",(stop - start)/60, \" minutes\")"
   ]
  },
  {
   "cell_type": "code",
   "execution_count": 20,
   "id": "88f25c0c",
   "metadata": {},
   "outputs": [
    {
     "name": "stdout",
     "output_type": "stream",
     "text": [
      "294/294 [==============================] - 2s 5ms/step\n"
     ]
    }
   ],
   "source": [
    "# Setting up the variables require to created a confusion matrix\n",
    "y_pred = model.predict(x_test)\n",
    "y_pred_classes = np.argmax(y_pred, axis=1)\n",
    "y_true = np.argmax(y_test, axis =1)\n",
    "confusion_matrix = metrics.confusion_matrix(y_true=y_true, y_pred=y_pred_classes )"
   ]
  },
  {
   "cell_type": "code",
   "execution_count": 21,
   "id": "eb297e08",
   "metadata": {},
   "outputs": [
    {
     "data": {
      "image/png": "[encoded data removed]",
      "text/plain": [
       "<Figure size 640x480 with 2 Axes>"
      ]
     },
     "metadata": {},
     "output_type": "display_data"
    }
   ],
   "source": [
    "# plotting the confusion matrix for the model label prediction\n",
    "ax = sns.heatmap(confusion_matrix, fmt='', cmap='Blues')\n",
    "ax.set_title('Confusion Matrix with labels\\n');\n",
    "ax.set_xlabel('Predicted Labels')\n",
    "ax.set_ylabel('Actual Labels')\n",
    "plt.show()"
   ]
  },
  {
   "cell_type": "code",
   "execution_count": 22,
   "id": "3e8b1696",
   "metadata": {},
   "outputs": [
    {
     "data": {
      "image/png": "[encoded data removed]",
      "text/plain": [
       "<Figure size 640x480 with 1 Axes>"
      ]
     },
     "metadata": {},
     "output_type": "display_data"
    }
   ],
   "source": [
    "# plotting the incorrect prediction fraction of each class label\n",
    "label_frac_error = 1 - np.diag(confusion_matrix) / np.sum(confusion_matrix, axis=1)\n",
    "plt.bar(np.arange(7),label_frac_error)\n",
    "plt.title('Incorrect prediction fraction of labels')\n",
    "plt.xlabel('True Label')\n",
    "plt.ylabel('Fraction classified incorrectly')\n",
    "plt.show()"
   ]
  },
  {
   "cell_type": "code",
   "execution_count": null,
   "id": "554057cd",
   "metadata": {},
   "outputs": [],
   "source": []
  },
  {
   "cell_type": "code",
   "execution_count": null,
   "id": "2e76969c",
   "metadata": {},
   "outputs": [],
   "source": []
  },
  {
   "cell_type": "code",
   "execution_count": null,
   "id": "9fa2ddf7",
   "metadata": {},
   "outputs": [],
   "source": []
  },
  {
   "cell_type": "code",
   "execution_count": null,
   "id": "83b62746",
   "metadata": {},
   "outputs": [],
   "source": []
  },
  {
   "cell_type": "code",
   "execution_count": null,
   "id": "0bb73571",
   "metadata": {},
   "outputs": [],
   "source": []
  }
 ],
 "metadata": {
  "kernelspec": {
   "display_name": "Python 3 (ipykernel)",
   "language": "python",
   "name": "python3"
  },
  "language_info": {
   "codemirror_mode": {
    "name": "ipython",
    "version": 3
   },
   "file_extension": ".py",
   "mimetype": "text/x-python",
   "name": "python",
   "nbconvert_exporter": "python",
   "pygments_lexer": "ipython3",
   "version": "3.7.2"
  }
 },
 "nbformat": 4,
 "nbformat_minor": 5
}
